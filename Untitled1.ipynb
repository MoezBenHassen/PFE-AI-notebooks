{
 "cells": [
  {
   "cell_type": "code",
   "execution_count": 1,
   "id": "7ddba479-38ec-4b7f-8237-4074b56809b0",
   "metadata": {},
   "outputs": [],
   "source": [
    "from keras.models import model_from_json"
   ]
  },
  {
   "cell_type": "code",
   "execution_count": 2,
   "id": "34628e41-19fc-4221-b5ad-e5d126cd92b2",
   "metadata": {},
   "outputs": [],
   "source": [
    "json_file = open('C:\\\\Users\\\\SBS\\\\IMPORTED_DATA\\\\KerasModels\\\\ADWYA_1.json')\n",
    "loaded_model_json = json_file.read()\n",
    "json_file.close()\n",
    "loaded_model = model_from_json(loaded_model_json)\n",
    "#json encoding "
   ]
  },
  {
   "cell_type": "code",
   "execution_count": null,
   "id": "e9fd9812-135f-4a68-8a68-5c7e996fbe2e",
   "metadata": {},
   "outputs": [],
   "source": []
  }
 ],
 "metadata": {
  "kernelspec": {
   "display_name": "Python 3 (ipykernel)",
   "language": "python",
   "name": "python3"
  },
  "language_info": {
   "codemirror_mode": {
    "name": "ipython",
    "version": 3
   },
   "file_extension": ".py",
   "mimetype": "text/x-python",
   "name": "python",
   "nbconvert_exporter": "python",
   "pygments_lexer": "ipython3",
   "version": "3.9.7"
  }
 },
 "nbformat": 4,
 "nbformat_minor": 5
}
