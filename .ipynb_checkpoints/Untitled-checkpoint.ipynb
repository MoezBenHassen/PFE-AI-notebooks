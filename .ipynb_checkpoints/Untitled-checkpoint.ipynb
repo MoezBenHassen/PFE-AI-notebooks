{
 "cells": [
  {
   "cell_type": "code",
   "execution_count": 6,
   "id": "a133566b-8ef5-4129-b362-a4481a3aef43",
   "metadata": {},
   "outputs": [],
   "source": [
    "import pandas_datareader as pdr\n",
    "import pandas as pd\n",
    "\n",
    "import json\n",
    "import pandas as pd\n",
    "import numpy as np\n",
    "from sklearn.preprocessing import MinMaxScaler\n",
    "\n",
    "import h5py as h5\n",
    "import matplotlib.pyplot as plt\n",
    "import seaborn as sns\n",
    "\n",
    "import pickle\n",
    "import datetime"
   ]
  },
  {
   "cell_type": "code",
   "execution_count": 8,
   "id": "8f6c9c7e-bbcd-4820-ac6f-23a0c2c0cd4b",
   "metadata": {},
   "outputs": [],
   "source": [
    "\n",
    "def savedmodel(instr, date: datetime, type):\n",
    "    loaded_model = 'Not found'\n",
    "    try:\n",
    "        filename = str(instr)+'_'+str(type)+'_'+str(config.BUY_PRICE)+'.sav'\n",
    "        loaded_model = pickle.load(open(config.PATH_TO_STORE_SVC_MODEL+str(filename), 'rb'))\n",
    "    except Exception as e:\n",
    "        print(e)\n",
    "    return (loaded_model)\n",
    "\n",
    "def savedmodel_Jan(instr, date: datetime, type):\n",
    "    loaded_model = 'Not found'\n",
    "    try:\n",
    "        filename = str(instr)+'_'+str(type)+'_'+str(config.BUY_PRICE)+'.sav'\n",
    "        loaded_model = pickle.load(open('IMPORTED_DATA/Trend_Perfect_SVC/'+str(filename), 'rb'))\n",
    "    except Exception as e:\n",
    "        print(e)\n",
    "    return (loaded_model)\n",
    "\n",
    "def daily_prediction_SVC(BM, instr, date, type, TRADING_DAY):\n",
    "    CLASSIFIER = model_svc.savemodel_Jan(instr, date, type)\n",
    "    if CLASSIFIER != 'Not found':\n",
    "        BM['Prediction']['SVC_'+type] = \"Hold\"\n",
    "        prediction = CLASSIFIER.predict(TRADING_DAY)\n",
    "        \n",
    "        if ( int(prediction) == 1 ):\n",
    "            BM['Prediction']['SVC_'+type] = \"BUY\"\n",
    "        if ( int(prediction) == -1 ):\n",
    "            BM['Prediction']['SVC_'+type] = \"Sell\"\n",
    "        if ( int(prediction) == 0 ):\n",
    "            BM['Prediction']['SVC_'+type] = \"Hold\"\n",
    "        print(BM['Prediction']['SVC_'+type])\n",
    "    else:\n",
    "        BM['Prediction']['SVC_'+type] ='NO MODEL PREDICTION'\n",
    "    return BM['Prediction']['SVC_'+type] \n",
    "            \n",
    "        "
   ]
  },
  {
   "cell_type": "code",
   "execution_count": null,
   "id": "fbbf7fae-ec7f-454b-992e-2286cce1dc48",
   "metadata": {},
   "outputs": [],
   "source": []
  }
 ],
 "metadata": {
  "kernelspec": {
   "display_name": "Python 3 (ipykernel)",
   "language": "python",
   "name": "python3"
  },
  "language_info": {
   "codemirror_mode": {
    "name": "ipython",
    "version": 3
   },
   "file_extension": ".py",
   "mimetype": "text/x-python",
   "name": "python",
   "nbconvert_exporter": "python",
   "pygments_lexer": "ipython3",
   "version": "3.9.7"
  }
 },
 "nbformat": 4,
 "nbformat_minor": 5
}
