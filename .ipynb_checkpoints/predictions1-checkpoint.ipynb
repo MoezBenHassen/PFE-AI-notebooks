{
 "cells": [
  {
   "cell_type": "raw",
   "id": "98671083-ee66-4a26-b1d8-0b3e62b523cf",
   "metadata": {},
   "source": [
    "### STOCK MARKET PREDICTION : "
   ]
  },
  {
   "cell_type": "code",
   "execution_count": 1,
   "id": "7729ad83-b483-4dc7-b9f2-878542d3c43c",
   "metadata": {},
   "outputs": [],
   "source": [
    "import pandas_datareader as pdr\n",
    "import pandas as pd"
   ]
  },
  {
   "cell_type": "code",
   "execution_count": 2,
   "id": "5ccb1417-fb49-4102-bc66-e9225e630f5e",
   "metadata": {
    "tags": []
   },
   "outputs": [
    {
     "data": {
      "text/html": [
       "<div>\n",
       "<style scoped>\n",
       "    .dataframe tbody tr th:only-of-type {\n",
       "        vertical-align: middle;\n",
       "    }\n",
       "\n",
       "    .dataframe tbody tr th {\n",
       "        vertical-align: top;\n",
       "    }\n",
       "\n",
       "    .dataframe thead th {\n",
       "        text-align: right;\n",
       "    }\n",
       "</style>\n",
       "<table border=\"1\" class=\"dataframe\">\n",
       "  <thead>\n",
       "    <tr style=\"text-align: right;\">\n",
       "      <th></th>\n",
       "      <th>_id</th>\n",
       "      <th>interRSI</th>\n",
       "      <th>interBollingerBands</th>\n",
       "      <th>interROC</th>\n",
       "      <th>interMACD</th>\n",
       "      <th>interMOM</th>\n",
       "      <th>ADL</th>\n",
       "      <th>price</th>\n",
       "      <th>instrument</th>\n",
       "      <th>date</th>\n",
       "      <th>WEMA</th>\n",
       "      <th>OBV</th>\n",
       "      <th>RSI</th>\n",
       "      <th>ROC</th>\n",
       "      <th>MOM</th>\n",
       "      <th>ATR</th>\n",
       "      <th>Stochastic</th>\n",
       "      <th>WilliamsR</th>\n",
       "      <th>BollingerBands</th>\n",
       "      <th>MACD</th>\n",
       "    </tr>\n",
       "  </thead>\n",
       "  <tbody>\n",
       "    <tr>\n",
       "      <th>0</th>\n",
       "      <td>{'$oid': '61fe0c065e2f1c1a60016390'}</td>\n",
       "      <td>0</td>\n",
       "      <td>0</td>\n",
       "      <td>0</td>\n",
       "      <td>0</td>\n",
       "      <td>0</td>\n",
       "      <td>1350000</td>\n",
       "      <td>55.50</td>\n",
       "      <td>ASSUR MAGHREBIA</td>\n",
       "      <td>{'$date': '2020-12-29T00:00:00Z'}</td>\n",
       "      <td>NaN</td>\n",
       "      <td>NaN</td>\n",
       "      <td>NaN</td>\n",
       "      <td>NaN</td>\n",
       "      <td>NaN</td>\n",
       "      <td>NaN</td>\n",
       "      <td>NaN</td>\n",
       "      <td>NaN</td>\n",
       "      <td>NaN</td>\n",
       "      <td>NaN</td>\n",
       "    </tr>\n",
       "    <tr>\n",
       "      <th>1</th>\n",
       "      <td>{'$oid': '61fe0c065e2f1c1a60016395'}</td>\n",
       "      <td>0</td>\n",
       "      <td>0</td>\n",
       "      <td>0</td>\n",
       "      <td>0</td>\n",
       "      <td>0</td>\n",
       "      <td>1580599</td>\n",
       "      <td>62.50</td>\n",
       "      <td>ASSUR MAGHREBIA</td>\n",
       "      <td>{'$date': '2022-01-10T00:00:00Z'}</td>\n",
       "      <td>59.772000</td>\n",
       "      <td>253847.0</td>\n",
       "      <td>NaN</td>\n",
       "      <td>NaN</td>\n",
       "      <td>NaN</td>\n",
       "      <td>NaN</td>\n",
       "      <td>NaN</td>\n",
       "      <td>NaN</td>\n",
       "      <td>NaN</td>\n",
       "      <td>NaN</td>\n",
       "    </tr>\n",
       "    <tr>\n",
       "      <th>2</th>\n",
       "      <td>{'$oid': '61fe0c065e2f1c1a6001639a'}</td>\n",
       "      <td>0</td>\n",
       "      <td>0</td>\n",
       "      <td>0</td>\n",
       "      <td>0</td>\n",
       "      <td>0</td>\n",
       "      <td>1582877</td>\n",
       "      <td>62.84</td>\n",
       "      <td>ASSUR MAGHREBIA</td>\n",
       "      <td>{'$date': '2022-01-17T00:00:00Z'}</td>\n",
       "      <td>61.625449</td>\n",
       "      <td>255718.0</td>\n",
       "      <td>NaN</td>\n",
       "      <td>NaN</td>\n",
       "      <td>NaN</td>\n",
       "      <td>NaN</td>\n",
       "      <td>NaN</td>\n",
       "      <td>NaN</td>\n",
       "      <td>NaN</td>\n",
       "      <td>NaN</td>\n",
       "    </tr>\n",
       "    <tr>\n",
       "      <th>3</th>\n",
       "      <td>{'$oid': '61fe0c065e2f1c1a6001639f'}</td>\n",
       "      <td>0</td>\n",
       "      <td>0</td>\n",
       "      <td>-1</td>\n",
       "      <td>0</td>\n",
       "      <td>-1</td>\n",
       "      <td>1585797</td>\n",
       "      <td>62.30</td>\n",
       "      <td>ASSUR MAGHREBIA</td>\n",
       "      <td>{'$date': '2022-01-28T00:00:00Z'}</td>\n",
       "      <td>62.005491</td>\n",
       "      <td>254510.0</td>\n",
       "      <td>66.75</td>\n",
       "      <td>-0.240192</td>\n",
       "      <td>{'MOM': -1.200000000000002, 'EmaMOM': -0.01946...</td>\n",
       "      <td>1.968316</td>\n",
       "      <td>{'k': 75.23510971786827, 'd': 80.02271409880136}</td>\n",
       "      <td>-24.764890</td>\n",
       "      <td>NaN</td>\n",
       "      <td>NaN</td>\n",
       "    </tr>\n",
       "    <tr>\n",
       "      <th>4</th>\n",
       "      <td>{'$oid': '61fe0c065e2f1c1a60016392'}</td>\n",
       "      <td>0</td>\n",
       "      <td>0</td>\n",
       "      <td>0</td>\n",
       "      <td>0</td>\n",
       "      <td>0</td>\n",
       "      <td>1580176</td>\n",
       "      <td>57.50</td>\n",
       "      <td>ASSUR MAGHREBIA</td>\n",
       "      <td>{'$date': '2020-12-31T00:00:00Z'}</td>\n",
       "      <td>NaN</td>\n",
       "      <td>254078.0</td>\n",
       "      <td>NaN</td>\n",
       "      <td>NaN</td>\n",
       "      <td>NaN</td>\n",
       "      <td>NaN</td>\n",
       "      <td>NaN</td>\n",
       "      <td>NaN</td>\n",
       "      <td>NaN</td>\n",
       "      <td>NaN</td>\n",
       "    </tr>\n",
       "    <tr>\n",
       "      <th>5</th>\n",
       "      <td>{'$oid': '61fe0c065e2f1c1a60016397'}</td>\n",
       "      <td>0</td>\n",
       "      <td>0</td>\n",
       "      <td>0</td>\n",
       "      <td>0</td>\n",
       "      <td>0</td>\n",
       "      <td>1580623</td>\n",
       "      <td>61.00</td>\n",
       "      <td>ASSUR MAGHREBIA</td>\n",
       "      <td>{'$date': '2022-01-12T00:00:00Z'}</td>\n",
       "      <td>60.534080</td>\n",
       "      <td>253871.0</td>\n",
       "      <td>NaN</td>\n",
       "      <td>NaN</td>\n",
       "      <td>NaN</td>\n",
       "      <td>NaN</td>\n",
       "      <td>NaN</td>\n",
       "      <td>NaN</td>\n",
       "      <td>NaN</td>\n",
       "      <td>NaN</td>\n",
       "    </tr>\n",
       "    <tr>\n",
       "      <th>6</th>\n",
       "      <td>{'$oid': '61fe0c065e2f1c1a6001639c'}</td>\n",
       "      <td>0</td>\n",
       "      <td>0</td>\n",
       "      <td>0</td>\n",
       "      <td>0</td>\n",
       "      <td>0</td>\n",
       "      <td>1583187</td>\n",
       "      <td>62.78</td>\n",
       "      <td>ASSUR MAGHREBIA</td>\n",
       "      <td>{'$date': '2022-01-19T00:00:00Z'}</td>\n",
       "      <td>61.612287</td>\n",
       "      <td>256020.0</td>\n",
       "      <td>NaN</td>\n",
       "      <td>13.117117</td>\n",
       "      <td>{'MOM': 6.280000000000001, 'EmaMOM': 0.1026809...</td>\n",
       "      <td>NaN</td>\n",
       "      <td>NaN</td>\n",
       "      <td>NaN</td>\n",
       "      <td>NaN</td>\n",
       "      <td>NaN</td>\n",
       "    </tr>\n",
       "    <tr>\n",
       "      <th>7</th>\n",
       "      <td>{'$oid': '61fe0c065e2f1c1a600163a1'}</td>\n",
       "      <td>0</td>\n",
       "      <td>0</td>\n",
       "      <td>0</td>\n",
       "      <td>0</td>\n",
       "      <td>0</td>\n",
       "      <td>1585808</td>\n",
       "      <td>62.20</td>\n",
       "      <td>ASSUR MAGHREBIA</td>\n",
       "      <td>{'$date': '2022-02-01T00:00:00Z'}</td>\n",
       "      <td>62.089914</td>\n",
       "      <td>254499.0</td>\n",
       "      <td>66.34</td>\n",
       "      <td>-0.480000</td>\n",
       "      <td>{'MOM': -0.799999999999997, 'EmaMOM': -0.01294...</td>\n",
       "      <td>1.789977</td>\n",
       "      <td>{'k': 61.76470588235301, 'd': 64.97877451224306}</td>\n",
       "      <td>-38.235294</td>\n",
       "      <td>NaN</td>\n",
       "      <td>NaN</td>\n",
       "    </tr>\n",
       "    <tr>\n",
       "      <th>8</th>\n",
       "      <td>{'$oid': '61fe0c065e2f1c1a60016393'}</td>\n",
       "      <td>0</td>\n",
       "      <td>0</td>\n",
       "      <td>0</td>\n",
       "      <td>0</td>\n",
       "      <td>0</td>\n",
       "      <td>1580021</td>\n",
       "      <td>62.45</td>\n",
       "      <td>ASSUR MAGHREBIA</td>\n",
       "      <td>{'$date': '2022-01-06T00:00:00Z'}</td>\n",
       "      <td>NaN</td>\n",
       "      <td>254233.0</td>\n",
       "      <td>NaN</td>\n",
       "      <td>NaN</td>\n",
       "      <td>NaN</td>\n",
       "      <td>NaN</td>\n",
       "      <td>NaN</td>\n",
       "      <td>NaN</td>\n",
       "      <td>NaN</td>\n",
       "      <td>NaN</td>\n",
       "    </tr>\n",
       "    <tr>\n",
       "      <th>9</th>\n",
       "      <td>{'$oid': '61fe0c065e2f1c1a60016398'}</td>\n",
       "      <td>0</td>\n",
       "      <td>0</td>\n",
       "      <td>0</td>\n",
       "      <td>0</td>\n",
       "      <td>0</td>\n",
       "      <td>1581185</td>\n",
       "      <td>63.00</td>\n",
       "      <td>ASSUR MAGHREBIA</td>\n",
       "      <td>{'$date': '2022-01-13T00:00:00Z'}</td>\n",
       "      <td>61.027264</td>\n",
       "      <td>254486.0</td>\n",
       "      <td>NaN</td>\n",
       "      <td>NaN</td>\n",
       "      <td>NaN</td>\n",
       "      <td>NaN</td>\n",
       "      <td>NaN</td>\n",
       "      <td>NaN</td>\n",
       "      <td>NaN</td>\n",
       "      <td>NaN</td>\n",
       "    </tr>\n",
       "  </tbody>\n",
       "</table>\n",
       "</div>"
      ],
      "text/plain": [
       "                                    _id  interRSI  interBollingerBands  \\\n",
       "0  {'$oid': '61fe0c065e2f1c1a60016390'}         0                    0   \n",
       "1  {'$oid': '61fe0c065e2f1c1a60016395'}         0                    0   \n",
       "2  {'$oid': '61fe0c065e2f1c1a6001639a'}         0                    0   \n",
       "3  {'$oid': '61fe0c065e2f1c1a6001639f'}         0                    0   \n",
       "4  {'$oid': '61fe0c065e2f1c1a60016392'}         0                    0   \n",
       "5  {'$oid': '61fe0c065e2f1c1a60016397'}         0                    0   \n",
       "6  {'$oid': '61fe0c065e2f1c1a6001639c'}         0                    0   \n",
       "7  {'$oid': '61fe0c065e2f1c1a600163a1'}         0                    0   \n",
       "8  {'$oid': '61fe0c065e2f1c1a60016393'}         0                    0   \n",
       "9  {'$oid': '61fe0c065e2f1c1a60016398'}         0                    0   \n",
       "\n",
       "   interROC  interMACD  interMOM      ADL  price       instrument  \\\n",
       "0         0          0         0  1350000  55.50  ASSUR MAGHREBIA   \n",
       "1         0          0         0  1580599  62.50  ASSUR MAGHREBIA   \n",
       "2         0          0         0  1582877  62.84  ASSUR MAGHREBIA   \n",
       "3        -1          0        -1  1585797  62.30  ASSUR MAGHREBIA   \n",
       "4         0          0         0  1580176  57.50  ASSUR MAGHREBIA   \n",
       "5         0          0         0  1580623  61.00  ASSUR MAGHREBIA   \n",
       "6         0          0         0  1583187  62.78  ASSUR MAGHREBIA   \n",
       "7         0          0         0  1585808  62.20  ASSUR MAGHREBIA   \n",
       "8         0          0         0  1580021  62.45  ASSUR MAGHREBIA   \n",
       "9         0          0         0  1581185  63.00  ASSUR MAGHREBIA   \n",
       "\n",
       "                                date       WEMA       OBV    RSI        ROC  \\\n",
       "0  {'$date': '2020-12-29T00:00:00Z'}        NaN       NaN    NaN        NaN   \n",
       "1  {'$date': '2022-01-10T00:00:00Z'}  59.772000  253847.0    NaN        NaN   \n",
       "2  {'$date': '2022-01-17T00:00:00Z'}  61.625449  255718.0    NaN        NaN   \n",
       "3  {'$date': '2022-01-28T00:00:00Z'}  62.005491  254510.0  66.75  -0.240192   \n",
       "4  {'$date': '2020-12-31T00:00:00Z'}        NaN  254078.0    NaN        NaN   \n",
       "5  {'$date': '2022-01-12T00:00:00Z'}  60.534080  253871.0    NaN        NaN   \n",
       "6  {'$date': '2022-01-19T00:00:00Z'}  61.612287  256020.0    NaN  13.117117   \n",
       "7  {'$date': '2022-02-01T00:00:00Z'}  62.089914  254499.0  66.34  -0.480000   \n",
       "8  {'$date': '2022-01-06T00:00:00Z'}        NaN  254233.0    NaN        NaN   \n",
       "9  {'$date': '2022-01-13T00:00:00Z'}  61.027264  254486.0    NaN        NaN   \n",
       "\n",
       "                                                 MOM       ATR  \\\n",
       "0                                                NaN       NaN   \n",
       "1                                                NaN       NaN   \n",
       "2                                                NaN       NaN   \n",
       "3  {'MOM': -1.200000000000002, 'EmaMOM': -0.01946...  1.968316   \n",
       "4                                                NaN       NaN   \n",
       "5                                                NaN       NaN   \n",
       "6  {'MOM': 6.280000000000001, 'EmaMOM': 0.1026809...       NaN   \n",
       "7  {'MOM': -0.799999999999997, 'EmaMOM': -0.01294...  1.789977   \n",
       "8                                                NaN       NaN   \n",
       "9                                                NaN       NaN   \n",
       "\n",
       "                                         Stochastic  WilliamsR BollingerBands  \\\n",
       "0                                               NaN        NaN            NaN   \n",
       "1                                               NaN        NaN            NaN   \n",
       "2                                               NaN        NaN            NaN   \n",
       "3  {'k': 75.23510971786827, 'd': 80.02271409880136} -24.764890            NaN   \n",
       "4                                               NaN        NaN            NaN   \n",
       "5                                               NaN        NaN            NaN   \n",
       "6                                               NaN        NaN            NaN   \n",
       "7  {'k': 61.76470588235301, 'd': 64.97877451224306} -38.235294            NaN   \n",
       "8                                               NaN        NaN            NaN   \n",
       "9                                               NaN        NaN            NaN   \n",
       "\n",
       "  MACD  \n",
       "0  NaN  \n",
       "1  NaN  \n",
       "2  NaN  \n",
       "3  NaN  \n",
       "4  NaN  \n",
       "5  NaN  \n",
       "6  NaN  \n",
       "7  NaN  \n",
       "8  NaN  \n",
       "9  NaN  "
      ]
     },
     "execution_count": 2,
     "metadata": {},
     "output_type": "execute_result"
    }
   ],
   "source": [
    "df = pd.read_json('IMPORTED_DATA/ta.json')\n",
    "#df\n",
    "df.head(10)\n",
    "#df['instrument'].apply(pd.Series)"
   ]
  },
  {
   "cell_type": "code",
   "execution_count": 3,
   "id": "07a74d0e-38a8-423d-a899-55241f8860a4",
   "metadata": {},
   "outputs": [
    {
     "data": {
      "text/plain": [
       "(140338, 20)"
      ]
     },
     "execution_count": 3,
     "metadata": {},
     "output_type": "execute_result"
    }
   ],
   "source": [
    "df.shape"
   ]
  },
  {
   "cell_type": "code",
   "execution_count": null,
   "id": "4e1b30ce-de4a-45d1-bbdb-b80a8d1fd3ea",
   "metadata": {},
   "outputs": [],
   "source": [
    "df['instrument'].apply(pd.Series)\n"
   ]
  },
  {
   "cell_type": "code",
   "execution_count": null,
   "id": "e6abbe7a-2e8c-4ed8-a616-a756385512b3",
   "metadata": {},
   "outputs": [],
   "source": [
    "import json\n",
    "import pandas as pd\n",
    "import numpy as np\n",
    "from sklearn.preprocessing import MinMaxScaler\n",
    "\n",
    "import h5py as h5\n",
    "import matplotlib.pyplot as plt\n",
    "import seaborn as sns"
   ]
  },
  {
   "cell_type": "code",
   "execution_count": null,
   "id": "c2fe1556-3f92-4477-aff8-8904ecbd86e0",
   "metadata": {
    "tags": []
   },
   "outputs": [],
   "source": [
    "#df = df.reset_index()  # make sure indexes pair with number of rows\n",
    "nbr=0\n",
    "df3 = []\n",
    "instru = \"AIR LIQUDE TSIE\"\n",
    "for ind in df.index:\n",
    "    #ASSUR MAGHREBIA\n",
    "    #AIR LIQUDE TSIE\n",
    "    if (df['instrument'][ind] == instru):\n",
    "        nbr = nbr +1\n",
    "        print(df['instrument'][ind], df['price'][ind])\n",
    "        \n",
    "        df2 = df['RSI'][ind]\n",
    "        df3.append(df2)\n",
    "     #print(df['instrument'][ind], df['price'][ind] \n",
    "print ('********************************************************')\n",
    "\n",
    "df4=pd.DataFrame(df3)"
   ]
  },
  {
   "cell_type": "code",
   "execution_count": null,
   "id": "57ddc5da-80e3-47c1-9282-90f0bf6f40e3",
   "metadata": {},
   "outputs": [],
   "source": [
    "df4.shape"
   ]
  },
  {
   "cell_type": "code",
   "execution_count": null,
   "id": "2d644dfb-bf02-48e8-b5e1-055427e29f27",
   "metadata": {},
   "outputs": [],
   "source": [
    "#visualize pricing data\n",
    "plt.figure(figsize=(18,8))\n",
    "title = \"prince history of \" + instru\n",
    "plt.title(title)\n",
    "plt.plot(df4)\n",
    "plt.show()"
   ]
  },
  {
   "cell_type": "code",
   "execution_count": null,
   "id": "eeff21d5-2180-4d07-942e-1d57ff5b32cb",
   "metadata": {},
   "outputs": [],
   "source": [
    "df4"
   ]
  },
  {
   "cell_type": "code",
   "execution_count": null,
   "id": "4ddc9df2-2aa6-4c6b-a5a9-318b95530baf",
   "metadata": {},
   "outputs": [],
   "source": [
    "#using only !nan inputs\n",
    "nbr = 0\n",
    "df3 = []\n",
    "for ind in df4.index:\n",
    "    #ASSUR MAGHREBIA\n",
    "    #AIR LIQUDE TSIE\n",
    "    if (not pd.isna(df['RSI'][ind])):\n",
    "        nbr = nbr +1\n",
    "        df3.append(df['RSI'][ind])\n",
    "df4=pd.DataFrame(df3)\n",
    "print(nbr)"
   ]
  },
  {
   "cell_type": "code",
   "execution_count": null,
   "id": "52aba858-a230-488f-a0d8-3b3ee0160443",
   "metadata": {},
   "outputs": [],
   "source": [
    "#visualize pricing data\n",
    "plt.figure(figsize=(18,8))\n",
    "title = \"prince history of \" + instru\n",
    "plt.title(title)\n",
    "plt.plot(df4)\n",
    "plt.show()"
   ]
  },
  {
   "cell_type": "code",
   "execution_count": null,
   "id": "65d6b395-8080-4535-a258-4f5c21eccdc5",
   "metadata": {},
   "outputs": [],
   "source": [
    "## ps: LSTM ARE SENSITIVE TO DATA SCALE --- > that's why wy apply MinMaxScaler to scale the data accordingly\n",
    "##import numpy as np"
   ]
  },
  {
   "cell_type": "code",
   "execution_count": null,
   "id": "04daf07c-90b0-4b73-9933-e77c434e9dab",
   "metadata": {},
   "outputs": [],
   "source": [
    "from sklearn.preprocessing import MinMaxScaler\n",
    "scaler=MinMaxScaler(feature_range=(0,1))\n",
    "df4 = scaler.fit_transform(np.array(df4).reshape(-1,1))"
   ]
  },
  {
   "cell_type": "code",
   "execution_count": null,
   "id": "1497f8e7-3b97-4bcb-98c4-c5146f891d70",
   "metadata": {},
   "outputs": [],
   "source": [
    "print(df4)"
   ]
  },
  {
   "cell_type": "markdown",
   "id": "bf28025d-e766-4420-8a82-c45e5346164a",
   "metadata": {},
   "source": [
    "## Splitting dataset into train and test split : "
   ]
  },
  {
   "cell_type": "code",
   "execution_count": null,
   "id": "3618e4c8-19f8-4881-b86d-83aa38a1453c",
   "metadata": {},
   "outputs": [],
   "source": [
    "# 65% (0.65) of dataframe being training size\n",
    "training_size = int(len(df4)*0.65)\n",
    "\n",
    "#the rest assigned to test size \n",
    "test_size = len(df4)-training_size \n",
    "\n",
    "train_data,test_data=df4[0:training_size,:],df4[training_size:len(df4),:1]"
   ]
  },
  {
   "cell_type": "code",
   "execution_count": null,
   "id": "8fce8dc3-799f-4e46-a3ef-fcc8ffda8daf",
   "metadata": {},
   "outputs": [],
   "source": [
    "training_size,test_size"
   ]
  },
  {
   "cell_type": "code",
   "execution_count": null,
   "id": "98bd7873-48bc-426b-b8e5-498fb3740a74",
   "metadata": {},
   "outputs": [],
   "source": [
    "#import numpy as np\n",
    "#convert array of values into a dataset matrix\n",
    "\n",
    "def create_dataset(dataset,time_step=1):\n",
    "    dataX, dataY = [], []\n",
    "    for i in range(len(dataset)-time_step-1):\n",
    "        a = dataset[i:(i + time_step), 0] \n",
    "        dataX.append(a)\n",
    "        dataY.append(dataset[i + time_step, 0])\n",
    "    return np.array(dataX), np.array(dataY)"
   ]
  },
  {
   "cell_type": "code",
   "execution_count": null,
   "id": "163e06a3-75c2-4968-a5ba-a7522287b3c0",
   "metadata": {},
   "outputs": [],
   "source": [
    "# reshape into X=t, t+3, t+2, ... and Y=t+4\n",
    "time_step = 100\n",
    "X_train, Y_train = create_dataset(train_data, time_step)\n",
    "X_test, Y_test = create_dataset(test_data, time_step)"
   ]
  },
  {
   "cell_type": "code",
   "execution_count": null,
   "id": "30636590-99e5-4689-886a-dd32554a8df3",
   "metadata": {},
   "outputs": [],
   "source": [
    "print(X_train.shape), print(Y_train.shape)"
   ]
  },
  {
   "cell_type": "code",
   "execution_count": null,
   "id": "adf0465d-c674-4c8b-aaf2-f83485ccff06",
   "metadata": {},
   "outputs": [],
   "source": [
    "print(X_test.shape), print(Y_test.shape)"
   ]
  },
  {
   "cell_type": "code",
   "execution_count": null,
   "id": "be2ad385-da96-4358-9d3e-426d1ebe1fb1",
   "metadata": {
    "tags": []
   },
   "outputs": [],
   "source": [
    "X_train"
   ]
  },
  {
   "cell_type": "markdown",
   "id": "d52e8246-bccb-40f7-8456-aba4be08dd70",
   "metadata": {
    "tags": []
   },
   "source": [
    "### Reshape input to be [samples, time_steps, features]  ==> required for LSTM models"
   ]
  },
  {
   "cell_type": "code",
   "execution_count": null,
   "id": "10d0c7b4-1afc-4bed-927e-be58840c9ece",
   "metadata": {},
   "outputs": [],
   "source": [
    "X_train = X_train.reshape(X_train.shape[0], X_train.shape[1], 1)\n",
    "X_test = X_test.reshape(X_test.shape[0], X_test.shape[1], 1)"
   ]
  },
  {
   "cell_type": "markdown",
   "id": "4001c731-3f37-4293-a772-f3f582816f8c",
   "metadata": {},
   "source": [
    "### Create LSTM model : "
   ]
  },
  {
   "cell_type": "code",
   "execution_count": null,
   "id": "8f305ded-ca87-4467-b693-078e8f9b9b3e",
   "metadata": {},
   "outputs": [],
   "source": [
    "from tensorflow.keras.models import Sequential\n",
    "from tensorflow.keras.layers import Dense\n",
    "from tensorflow.keras.layers import LSTM"
   ]
  },
  {
   "cell_type": "code",
   "execution_count": null,
   "id": "f59dc520-1dba-4548-8637-b5a7fae69038",
   "metadata": {},
   "outputs": [],
   "source": [
    "model=Sequential()\n",
    "model.add(LSTM(50,return_sequences=True,input_shape=(100,1)))\n",
    "model.add(LSTM(50,return_sequences=True))\n",
    "model.add(LSTM(50))\n",
    "model.add(Dense(1))\n",
    "model.compile(loss='mean_squared_error',optimizer='adam')"
   ]
  },
  {
   "cell_type": "code",
   "execution_count": null,
   "id": "920e605c-7c46-44b6-948d-9070febeb0ac",
   "metadata": {},
   "outputs": [],
   "source": [
    "model.summary()"
   ]
  },
  {
   "cell_type": "code",
   "execution_count": null,
   "id": "5cffe0ee-d51d-48d5-b5f2-2390cf6dc2a2",
   "metadata": {
    "tags": []
   },
   "outputs": [],
   "source": [
    "model.fit(X_train,Y_train,validation_data=(X_test,Y_test), epochs=100, batch_size=64, verbose=1)"
   ]
  },
  {
   "cell_type": "code",
   "execution_count": null,
   "id": "15fb1288-a95d-4a23-b1db-3b8c4744b8f4",
   "metadata": {},
   "outputs": [],
   "source": [
    "import tensorflow as tf"
   ]
  },
  {
   "cell_type": "code",
   "execution_count": null,
   "id": "61dd4ed3-5d29-4fc5-9741-f0d7856cbc7d",
   "metadata": {},
   "outputs": [],
   "source": [
    "### Prediction and performance metrics check\n",
    "train_predict=model.predict(X_train)\n",
    "test_predict=model.predict(X_test)"
   ]
  },
  {
   "cell_type": "code",
   "execution_count": null,
   "id": "1e66f0e9-f5d6-46fa-b2a1-92cc59d14e1f",
   "metadata": {},
   "outputs": [],
   "source": [
    "##transform back to original form before scaling\n",
    "train_predict=scaler.inverse_transform(train_predict)\n",
    "test_predict=scaler.inverse_transform(test_predict)"
   ]
  },
  {
   "cell_type": "code",
   "execution_count": null,
   "id": "1a8b5a9f-286a-4cfb-8587-67ccefe8cd31",
   "metadata": {},
   "outputs": [],
   "source": [
    "## Calculating RMSE ( root mean squared error / regression metrics)  performance metrics\n",
    "import math\n",
    "from sklearn.metrics import mean_squared_error\n",
    "math.sqrt(mean_squared_error(Y_train,train_predict))"
   ]
  },
  {
   "cell_type": "code",
   "execution_count": null,
   "id": "1b348cff-5791-4fec-a5d0-6e311bad70fa",
   "metadata": {},
   "outputs": [],
   "source": [
    "### test data RMSE\n",
    "math.sqrt(mean_squared_error(Y_test, test_predict))"
   ]
  },
  {
   "cell_type": "code",
   "execution_count": null,
   "id": "9d0b3b93-e782-42c3-bfdd-ac4f7cbe50fb",
   "metadata": {},
   "outputs": [],
   "source": [
    "plt.figure(figsize=(12,8))\n",
    "plt.plot(df4)"
   ]
  },
  {
   "cell_type": "code",
   "execution_count": null,
   "id": "4a9ae1d0-0023-4639-a700-8fcf66a1fe1b",
   "metadata": {},
   "outputs": [],
   "source": [
    "### Plotting \n",
    "# shift train predictions for plotting\n",
    "look_back=100\n",
    "trainPredictPlot = np.empty_like(df4)\n",
    "trainPredictPlot[:, :] = np.nan\n",
    "trainPredictPlot[look_back:len(train_predict)+look_back, :] = train_predict\n",
    "# shift test predictions for plotting\n",
    "testPredictPlot = np.empty_like(df4)\n",
    "testPredictPlot[:, :] = np.nan\n",
    "testPredictPlot[len(train_predict)+(look_back*2)+1:len(df4)-1, :] = test_predict\n",
    "# plot baseline and predictions\n",
    "plt.figure(figsize=(12,8))\n",
    "plt.plot(scaler.inverse_transform(df4))\n",
    "plt.plot(trainPredictPlot)\n",
    "plt.plot(testPredictPlot)\n",
    "\n",
    "plt.show()"
   ]
  },
  {
   "cell_type": "code",
   "execution_count": null,
   "id": "ff3ca750-1cd4-4cc6-b7eb-95487f42fe1f",
   "metadata": {},
   "outputs": [],
   "source": [
    "len(test_data)"
   ]
  },
  {
   "cell_type": "code",
   "execution_count": null,
   "id": "0e87b26b-9e69-4134-9259-e3575d652ddb",
   "metadata": {},
   "outputs": [],
   "source": [
    "#taking 100 test data\n",
    "x_input = test_data[469:].reshape(1,-1)\n",
    "x_input.shape"
   ]
  },
  {
   "cell_type": "code",
   "execution_count": null,
   "id": "025af7fa-2295-4e70-a3d8-3794437b6a6a",
   "metadata": {},
   "outputs": [],
   "source": [
    "#converting inputs to list \n",
    "temp_input = list(x_input)\n",
    "temp_input=temp_input[0].tolist()"
   ]
  },
  {
   "cell_type": "markdown",
   "id": "ef363457-0d1d-465d-9ee1-7c2391924609",
   "metadata": {
    "tags": []
   },
   "source": [
    "###  prediction for next 30 days"
   ]
  },
  {
   "cell_type": "code",
   "execution_count": null,
   "id": "0aaf691c-a82b-4d9c-b2b2-5d0a53f33914",
   "metadata": {
    "tags": []
   },
   "outputs": [],
   "source": [
    "# demonstrate prediction for next 10 days\n",
    "from numpy import array\n",
    "\n",
    "lst_output=[]\n",
    "n_steps=100\n",
    "i=0\n",
    "while(i<30):\n",
    "    \n",
    "    if(len(temp_input)>100):\n",
    "        #print(temp_input)\n",
    "        x_input=np.array(temp_input[1:])\n",
    "        print(\"{} day input {}\".format(i,x_input))\n",
    "        x_input=x_input.reshape(1,-1)\n",
    "        x_input = x_input.reshape((1, n_steps, 1))\n",
    "        #print(x_input)\n",
    "        yhat = model.predict(x_input, verbose=0)\n",
    "        print(\"{} day output {}\".format(i,yhat))\n",
    "        temp_input.extend(yhat[0].tolist())\n",
    "        temp_input=temp_input[1:]\n",
    "        #print(temp_input)\n",
    "        lst_output.extend(yhat.tolist())\n",
    "        i=i+1\n",
    "    else:\n",
    "        x_input = x_input.reshape((1, n_steps,1))\n",
    "        yhat = model.predict(x_input, verbose=0)\n",
    "        print(yhat[0])\n",
    "        temp_input.extend(yhat[0].tolist())\n",
    "        print(len(temp_input))\n",
    "        lst_output.extend(yhat.tolist())\n",
    "        i=i+1\n",
    "    \n",
    "\n",
    "print(lst_output)"
   ]
  },
  {
   "cell_type": "code",
   "execution_count": null,
   "id": "77220e19-d251-444e-9401-98e49326788c",
   "metadata": {},
   "outputs": [],
   "source": [
    "#The arange ====> ([start,] stop[, step,][, dtype]) : Returns an array with evenly spaced elements as per the interval. The interval mentioned is half-opened i.e. [Start, Stop) \n",
    "day_new = np.arange(1,101)\n",
    "day_pred=np.arange(101,131)"
   ]
  },
  {
   "cell_type": "code",
   "execution_count": null,
   "id": "aecc47e7-b2a8-4436-9a0d-bc63e5b663c4",
   "metadata": {},
   "outputs": [],
   "source": [
    "len(df4)\n"
   ]
  },
  {
   "cell_type": "code",
   "execution_count": null,
   "id": "11a0a970-1d89-4689-9824-77ed2b3305b3",
   "metadata": {},
   "outputs": [],
   "source": [
    "# import matplotlib.pyplot as plt ==> imported top\n",
    "\n",
    "plt.figure(figsize=(12,8))\n",
    "plt.plot(day_new,scaler.inverse_transform(df4[1525:]))\n",
    "plt.plot(day_pred,scaler.inverse_transform(lst_output))"
   ]
  },
  {
   "cell_type": "code",
   "execution_count": null,
   "id": "5c944f00-ba92-43c9-af89-ca1b8b5961c9",
   "metadata": {},
   "outputs": [],
   "source": []
  },
  {
   "cell_type": "code",
   "execution_count": null,
   "id": "b9e7068c-a6b1-45bc-ad3f-35e859bf1be5",
   "metadata": {},
   "outputs": [],
   "source": []
  },
  {
   "cell_type": "code",
   "execution_count": null,
   "id": "7834c597-62ca-4f11-afad-6965b9d8f8c6",
   "metadata": {},
   "outputs": [],
   "source": []
  }
 ],
 "metadata": {
  "kernelspec": {
   "display_name": "Python 3 (ipykernel)",
   "language": "python",
   "name": "python3"
  },
  "language_info": {
   "codemirror_mode": {
    "name": "ipython",
    "version": 3
   },
   "file_extension": ".py",
   "mimetype": "text/x-python",
   "name": "python",
   "nbconvert_exporter": "python",
   "pygments_lexer": "ipython3",
   "version": "3.9.7"
  }
 },
 "nbformat": 4,
 "nbformat_minor": 5
}
